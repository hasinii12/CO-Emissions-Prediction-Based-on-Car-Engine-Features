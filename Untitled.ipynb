{
 "cells": [
  {
   "cell_type": "code",
   "execution_count": 1,
   "id": "bd03e90f-78e6-4d58-bd76-2adbcb21c41b",
   "metadata": {},
   "outputs": [
    {
     "name": "stdout",
     "output_type": "stream",
     "text": [
      "✅ Model and feature columns saved successfully!\n"
     ]
    }
   ],
   "source": [
    "import pandas as pd\n",
    "import joblib\n",
    "from sklearn.model_selection import train_test_split\n",
    "from sklearn.tree import DecisionTreeRegressor\n",
    "\n",
    "# Load dataset\n",
    "df = pd.read_csv(\"co2_emissions.csv\")\n",
    "\n",
    "# Drop high-cardinality categorical columns\n",
    "df = df.drop(columns=['make', 'model'])\n",
    "\n",
    "# One-hot encoding of categorical features\n",
    "df_encoded = pd.get_dummies(df, columns=['vehicle_class', 'transmission', 'fuel_type'], drop_first=True)\n",
    "\n",
    "# Define features (X) and target variable (y)\n",
    "X = df_encoded.drop(columns=['co2_emissions'])\n",
    "y = df_encoded['co2_emissions']\n",
    "\n",
    "# Split dataset into train (80%) and test (20%)\n",
    "X_train, X_test, y_train, y_test = train_test_split(X, y, test_size=0.2, random_state=42)\n",
    "\n",
    "# Train a Decision Tree model\n",
    "dt_model = DecisionTreeRegressor(random_state=42)\n",
    "dt_model.fit(X_train, y_train)\n",
    "\n",
    "# ✅ Save feature column names to ensure consistency in the Streamlit app\n",
    "joblib.dump(X.columns.tolist(), \"feature_columns.pkl\")\n",
    "\n",
    "# ✅ Save trained model\n",
    "joblib.dump(dt_model, \"co2_emission_model.pkl\")\n",
    "\n",
    "print(\"✅ Model and feature columns saved successfully!\")\n"
   ]
  },
  {
   "cell_type": "code",
   "execution_count": null,
   "id": "dcb07f30-9852-44ec-ace2-a534578f1785",
   "metadata": {},
   "outputs": [],
   "source": []
  }
 ],
 "metadata": {
  "kernelspec": {
   "display_name": "Python 3 (ipykernel)",
   "language": "python",
   "name": "python3"
  },
  "language_info": {
   "codemirror_mode": {
    "name": "ipython",
    "version": 3
   },
   "file_extension": ".py",
   "mimetype": "text/x-python",
   "name": "python",
   "nbconvert_exporter": "python",
   "pygments_lexer": "ipython3",
   "version": "3.12.2"
  }
 },
 "nbformat": 4,
 "nbformat_minor": 5
}
